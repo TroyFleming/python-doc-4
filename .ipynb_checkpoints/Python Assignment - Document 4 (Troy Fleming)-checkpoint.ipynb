{
 "cells": [
  {
   "cell_type": "markdown",
   "metadata": {},
   "source": [
    "# Object-Oriented-Programming (OOP)"
   ]
  },
  {
   "cell_type": "markdown",
   "metadata": {},
   "source": [
    "## Tasks Today:\n",
    "\n",
    "   \n",
    "\n",
    "1) <b>Creating a Class (Initializing/Declaring)</b> <br>\n",
    "2) <b>Using a Class (Instantiating)</b> <br>\n",
    " &nbsp;&nbsp;&nbsp;&nbsp; a) Creating One Instance <br>\n",
    " &nbsp;&nbsp;&nbsp;&nbsp; b) Creating Multiple Instances <br>\n",
    " &nbsp;&nbsp;&nbsp;&nbsp; c) In-Class Exercise #1 - Create a Class 'Car' and instantiate three different makes of cars <br>\n",
    "3) <b>The \\__init\\__() Method</b> <br>\n",
    " &nbsp;&nbsp;&nbsp;&nbsp; a) The 'self' Attribute <br>\n",
    "4) <b>Class Attributes</b> <br>\n",
    " &nbsp;&nbsp;&nbsp;&nbsp; a) Initializing Attributes <br>\n",
    " &nbsp;&nbsp;&nbsp;&nbsp; b) Setting an Attribute Outside of the \\__init\\__() Method <br>\n",
    " &nbsp;&nbsp;&nbsp;&nbsp; c) Setting Defaults for Attributes <br>\n",
    " &nbsp;&nbsp;&nbsp;&nbsp; d) Accessing Class Attributes <br>\n",
    " &nbsp;&nbsp;&nbsp;&nbsp; e) Changing Class Attributes <br>\n",
    " &nbsp;&nbsp;&nbsp;&nbsp; f) In-Class Exercise #2 - Add a color and wheels attribute to your 'Car' class <br>\n",
    "5) <b>Class Methods</b> <br>\n",
    " &nbsp;&nbsp;&nbsp;&nbsp; a) Creating <br>\n",
    " &nbsp;&nbsp;&nbsp;&nbsp; b) Calling <br>\n",
    " &nbsp;&nbsp;&nbsp;&nbsp; c) Modifying an Attribute's Value Through a Method <br>\n",
    " &nbsp;&nbsp;&nbsp;&nbsp; d) Incrementing an Attribute's Value Through a Method <br>\n",
    " &nbsp;&nbsp;&nbsp;&nbsp; e) In-Class Exercise #3 - Add a method that prints the cars color and wheel number, then call them <br>\n",
    "6) <b>Inheritance</b> <br>\n",
    " &nbsp;&nbsp;&nbsp;&nbsp; a) Syntax for Inheriting from a Parent Class <br>\n",
    " &nbsp;&nbsp;&nbsp;&nbsp; b) The \\__init\\__() Method for a Child Class (super()) <br>\n",
    " &nbsp;&nbsp;&nbsp;&nbsp; c) Defining Attributes and Methods for the Child Class <br>\n",
    " &nbsp;&nbsp;&nbsp;&nbsp; d) Method Overriding <br>\n",
    " &nbsp;&nbsp;&nbsp;&nbsp; e) In-Class Exercise #4 - Create a class 'Ford' that inherits from 'Car' class and initialize it as a Blue Ford Explorer with 4 wheels using the super() method <br>\n",
    "7) <b>Classes as Attributes</b> <br>\n",
    "8) <b>Exercises</b> <br>\n",
    " &nbsp;&nbsp;&nbsp;&nbsp; a) Exercise #1 - Turn the shopping cart program from yesterday into an object-oriented program <br>"
   ]
  },
  {
   "cell_type": "markdown",
   "metadata": {},
   "source": [
    "## Creating a Class (Initializing/Declaring)\n",
    "<p>When creating a class, function, or even a variable you are initializing that object. Initializing and Declaring occur at the same time in Python, whereas in lower level languages you have to declare an object before initializing it. This is the first step in the process of using a class.</p>"
   ]
  },
  {
   "cell_type": "code",
   "execution_count": 1,
   "metadata": {},
   "outputs": [],
   "source": [
    "# Creating a class is essentially creating a data type, with attributes that come with it\n",
    "# A blueprint used to create\n",
    "# Class is Title case!\n",
    "\n",
    "class Car():\n",
    "    wheels = 4\n",
    "    color = 'blue'"
   ]
  },
  {
   "cell_type": "markdown",
   "metadata": {},
   "source": [
    "## Using a Class (Instantiating)\n",
    "<p>The process of creating a class is called <i>Instantiating</i>. Each time you create a variable of that type of class, it is referred to as an <i>Instance</i> of that class. This is the second step in the process of using a class.</p>"
   ]
  },
  {
   "cell_type": "markdown",
   "metadata": {},
   "source": [
    "##### Creating One Instance"
   ]
  },
  {
   "cell_type": "code",
   "execution_count": 6,
   "metadata": {},
   "outputs": [
    {
     "name": "stdout",
     "output_type": "stream",
     "text": [
      "4\n",
      "blue\n"
     ]
    }
   ],
   "source": [
    "# The variable entered \"becomes\" the class you assign it to, in thise case\n",
    "# ford becomes the class Car. Each time a variable is created, it is an instance of said class.\n",
    "# This is called instantiating: creating an instance\n",
    "\n",
    "ford = Car()\n",
    "print(ford.wheels)\n",
    "print(ford.color)"
   ]
  },
  {
   "cell_type": "markdown",
   "metadata": {},
   "source": [
    "##### Creating Multiple Instances"
   ]
  },
  {
   "cell_type": "code",
   "execution_count": 10,
   "metadata": {},
   "outputs": [
    {
     "name": "stdout",
     "output_type": "stream",
     "text": [
      "<class 'str'>\n",
      "4\n"
     ]
    }
   ],
   "source": [
    "# You can create multiple instances of the class, as many as needed\n",
    "\n",
    "chevy = Car()\n",
    "honda = Car()\n",
    "porsche = Car()\n",
    "\n",
    "print(type(porsche.color))\n",
    "print(porsche.wheels)"
   ]
  },
  {
   "cell_type": "markdown",
   "metadata": {},
   "source": [
    "##### In-Class Exercise #1 - Create a Class 'Car' and Instantiate three different makes of cars"
   ]
  },
  {
   "cell_type": "code",
   "execution_count": 13,
   "metadata": {},
   "outputs": [
    {
     "name": "stdout",
     "output_type": "stream",
     "text": [
      "2\n",
      "black\n",
      "convertible\n",
      "22\n"
     ]
    }
   ],
   "source": [
    "class Auto():\n",
    "    top = 'convertible'\n",
    "    color = 'black'\n",
    "    wheel_size = 22\n",
    "    doors = 2\n",
    "    \n",
    "ferrari = Auto()\n",
    "lambo = Auto()\n",
    "\n",
    "print(ferrari.doors)\n",
    "print(ferrari.color)\n",
    "print(lambo.top)\n",
    "print(lambo.wheel_size)"
   ]
  },
  {
   "cell_type": "markdown",
   "metadata": {},
   "source": [
    "## The \\__init\\__() Method <br>\n",
    "<p>This method is used in almost every created class, and called only once upon the creation of the class instance. This method will initialize all variables needed for the object.</p>"
   ]
  },
  {
   "cell_type": "code",
   "execution_count": 16,
   "metadata": {},
   "outputs": [
    {
     "name": "stdout",
     "output_type": "stream",
     "text": [
      "4\n",
      "black\n"
     ]
    }
   ],
   "source": [
    "# Whatever is placed in the init fuction will automatically happen\n",
    "# These methods are called \"dunder\": __method__\n",
    "# Method is a function that exists inside a class\n",
    "\n",
    "class Car():\n",
    "    engine = '4.7L' #constant attribute\n",
    "    \n",
    "    def __init__(self, wheels, color):\n",
    "    # This function within the class is used to define the attributes within the class\n",
    "    # based on the instances you create for the class\n",
    "        self.wheels = wheels\n",
    "        self.color = color\n",
    "\n",
    "# Instances of the class Car(), with values for wheels and color entered through the class\n",
    "ford = Car(4, 'red')\n",
    "chevy = Car(6, 'black')\n",
    "\n",
    "print(ford.wheels)\n",
    "print(chevy.color)"
   ]
  },
  {
   "cell_type": "markdown",
   "metadata": {},
   "source": [
    "##### The 'self' Attribute <br>\n",
    "<p>This attribute is required to keep track of specific instance's attributes. Without the self attribute, the program would not know how to reference or keep track of an instance's attributes.</p>"
   ]
  },
  {
   "cell_type": "code",
   "execution_count": null,
   "metadata": {},
   "outputs": [],
   "source": [
    "# The self attribute is used to keep each attribute of a class referenced to the class"
   ]
  },
  {
   "cell_type": "markdown",
   "metadata": {},
   "source": [
    "## Class Attributes <br>\n",
    "<p>While variables are inside of a class, they are referred to as attributes and not variables. When someone says 'attribute' you know they're speaking about a class. Attributes can be initialized through the init method, or outside of it.</p>"
   ]
  },
  {
   "cell_type": "markdown",
   "metadata": {},
   "source": [
    "##### Initializing Attributes"
   ]
  },
  {
   "cell_type": "code",
   "execution_count": 20,
   "metadata": {},
   "outputs": [],
   "source": [
    "class Toy():\n",
    "    kind = 'car'\n",
    "    \n",
    "    def __init__(self, rooftop, horn, wheels = 4):\n",
    "        self.rooftop = rooftop\n",
    "        self.horn = horn\n",
    "        self.wheels = wheels\n",
    "        \n",
    "tonka_truck = Toy(1,1)\n",
    "hotwheels_car = Toy(2,3,8)"
   ]
  },
  {
   "cell_type": "markdown",
   "metadata": {},
   "source": [
    "##### Accessing Class Attributes"
   ]
  },
  {
   "cell_type": "code",
   "execution_count": 21,
   "metadata": {
    "scrolled": true
   },
   "outputs": [
    {
     "name": "stdout",
     "output_type": "stream",
     "text": [
      "1\n",
      "8\n"
     ]
    }
   ],
   "source": [
    "print(tonka_truck.horn)\n",
    "print(hotwheels_car.wheels)"
   ]
  },
  {
   "cell_type": "markdown",
   "metadata": {},
   "source": [
    "##### Setting Defaults for Attributes"
   ]
  },
  {
   "cell_type": "code",
   "execution_count": 24,
   "metadata": {},
   "outputs": [
    {
     "name": "stdout",
     "output_type": "stream",
     "text": [
      "Blue\n",
      "4\n",
      "5.4L\n"
     ]
    }
   ],
   "source": [
    "class Car():\n",
    "    engine = '4.7L' #constant attribute\n",
    "    \n",
    "    def __init__(self,wheels):\n",
    "        self.wheels = wheels\n",
    "        self.color = 'Blue' # Cannot overwrite if attribute is placed here\n",
    "        \n",
    "honda = Car(4)\n",
    "print(honda.color)\n",
    "print(honda.wheels)\n",
    "\n",
    "# Can change constant attribute of a class with following code\n",
    "honda.engine = \"5.4L\"\n",
    "\n",
    "print(honda.engine)"
   ]
  },
  {
   "cell_type": "markdown",
   "metadata": {},
   "source": [
    "##### Changing Class Attributes <br>\n",
    "<p>Keep in mind there are global class attributes and then there are attributes only available to each class instance which won't effect other classes.</p>"
   ]
  },
  {
   "cell_type": "code",
   "execution_count": null,
   "metadata": {},
   "outputs": [],
   "source": [
    "# See 'Setting Defaults for Attributes'"
   ]
  },
  {
   "cell_type": "markdown",
   "metadata": {},
   "source": [
    "##### In-Class Exercise #2 - Add a doors and seats attribute to your 'Car' class then print out two different instances with different doors and seats"
   ]
  },
  {
   "cell_type": "code",
   "execution_count": 2,
   "metadata": {},
   "outputs": [
    {
     "name": "stdout",
     "output_type": "stream",
     "text": [
      "4\n",
      "2\n"
     ]
    }
   ],
   "source": [
    "class Car():\n",
    "    \n",
    "    def __init__(self, doors, seats):\n",
    "        self.doors = doors\n",
    "        self.seats = seats\n",
    "        \n",
    "jeep = Car(4, 6)\n",
    "saturn = Car(2,2)\n",
    "\n",
    "print(jeep.doors)\n",
    "print(saturn.seats)"
   ]
  },
  {
   "cell_type": "markdown",
   "metadata": {},
   "source": [
    "## Class Methods <br>\n",
    "<p>While inside of a class, functions are referred to as 'methods'. If you hear someone mention methods, they're speaking about classes. Methods are essentially functions, but only callable on the instances of a class.</p>"
   ]
  },
  {
   "cell_type": "markdown",
   "metadata": {},
   "source": [
    "##### Creating"
   ]
  },
  {
   "cell_type": "code",
   "execution_count": 1,
   "metadata": {},
   "outputs": [],
   "source": [
    "class ShoppingBag():\n",
    "    \n",
    "    '''\n",
    "        The ShoppingBag class will have number of handles, bag capacity,\n",
    "        and items to place inside.\n",
    "        \n",
    "        Attributes for the class:\n",
    "        - handles: expected to be an integer\n",
    "        - items: expected to be a list\n",
    "        - capacity: expected to be an integer\n",
    "    '''\n",
    "    \n",
    "    # dunder method\n",
    "    # holds global attributes that methods within class can call using self.attribute\n",
    "    def __init__(self,handles, items = [], capacity = 10,):\n",
    "        self.handles = handles\n",
    "        self.items = items\n",
    "        self.capacity = capacity\n",
    "        \n",
    "    # method to show what items you have in your shopping bag   \n",
    "    def showShoppingBag(self):\n",
    "        if len(self.items) == 0:\n",
    "            print('You have no items in your bag.')\n",
    "        else:\n",
    "            print(\"You have items in your bag!\")\n",
    "            for item in self.items:\n",
    "                print(item)\n",
    "    \n",
    "    # method to show the remaining capacity of your shopping bag\n",
    "    def showCapacity(self):\n",
    "        print(f'Your remaining capacity is: {self.capacity - len(self.items)}')\n",
    "    \n",
    "    # method to add items to your shopping bag\n",
    "    # uses an input to add items\n",
    "    def addToShoppingBag(self):\n",
    "        \n",
    "        # If capacity is full, reject new items\n",
    "        if len(self.items) == self.capacity:\n",
    "            print('You have no room left in your bag.')\n",
    "        else:\n",
    "            product = input('What would you like to add? ')\n",
    "            self.items.append(product)\n",
    "        \n",
    "    # method to show how many handles your bag has\n",
    "    def showHandles(self):\n",
    "        print(f'You have {self.handles} handles on your bag.')   "
   ]
  },
  {
   "cell_type": "markdown",
   "metadata": {},
   "source": [
    "##### Calling"
   ]
  },
  {
   "cell_type": "code",
   "execution_count": 2,
   "metadata": {},
   "outputs": [
    {
     "name": "stdout",
     "output_type": "stream",
     "text": [
      "What would you like to do?\n",
      "\n",
      "You may:\n",
      "- Add\n",
      "- Show\n",
      "- Quit\n",
      "\n",
      "Add\n",
      "What would you like to add? bacon\n",
      "What would you like to do?\n",
      "\n",
      "You may:\n",
      "- Add\n",
      "- Show\n",
      "- Quit\n",
      "\n",
      "add\n",
      "What would you like to add? eggs\n",
      "What would you like to do?\n",
      "\n",
      "You may:\n",
      "- Add\n",
      "- Show\n",
      "- Quit\n",
      "\n",
      "add\n",
      "What would you like to add? milk\n",
      "What would you like to do?\n",
      "\n",
      "You may:\n",
      "- Add\n",
      "- Show\n",
      "- Quit\n",
      "\n",
      "show\n",
      "What would you like to see: \n",
      "- Capacity\n",
      "- Handles\n",
      "- Shopping Bagcapacity\n",
      "Your remaining capacity is: 7\n",
      "What would you like to do?\n",
      "\n",
      "You may:\n",
      "- Add\n",
      "- Show\n",
      "- Quit\n",
      "\n",
      "show\n",
      "What would you like to see: \n",
      "- Capacity\n",
      "- Handles\n",
      "- Shopping Baghandles\n",
      "You have 2 handles on your bag.\n",
      "What would you like to do?\n",
      "\n",
      "You may:\n",
      "- Add\n",
      "- Show\n",
      "- Quit\n",
      "\n",
      "show\n",
      "What would you like to see: \n",
      "- Capacity\n",
      "- Handles\n",
      "- Shopping Bagshopping bag\n",
      "You have items in your bag!\n",
      "bacon\n",
      "eggs\n",
      "milk\n",
      "What would you like to do?\n",
      "\n",
      "You may:\n",
      "- Add\n",
      "- Show\n",
      "- Quit\n",
      "\n",
      "quit\n",
      "You have items in your bag!\n",
      "bacon\n",
      "eggs\n",
      "milk\n",
      "Thanks for shopping!\n"
     ]
    }
   ],
   "source": [
    "# To call the ShoppingBag class, you have to instantiate it\n",
    "\n",
    "wholeFoodsBag = ShoppingBag(2)\n",
    "\n",
    "# creating a fuction that calls the class into action\n",
    "def run():\n",
    "    while True:\n",
    "        response = input(\"What would you like to do?\\n\\nYou may:\\n- Add\\n- Show\\n- Quit\\n\\n\")\n",
    "        # Asks the user what they would like to do: add items, show bag, or quit\n",
    "        \n",
    "        # If they choose quit, shows the contents of bag and ends the function\n",
    "        if response.lower() == 'quit':\n",
    "            wholeFoodsBag.showShoppingBag()\n",
    "            print('Thanks for shopping!')\n",
    "            break\n",
    "            \n",
    "        # If they choose add, allows them enter items via input into bag\n",
    "        elif response.lower() == 'add':\n",
    "            wholeFoodsBag.addToShoppingBag()\n",
    "            \n",
    "        # If they choose show, allows them to display attributes of their bag\n",
    "        elif response.lower() == 'show':\n",
    "            showChoice = input('What would you like to see: \\n- Capacity\\n- Handles\\n- Shopping Bag')\n",
    "            \n",
    "            # If they choose capacity, displays the capacity of the bag\n",
    "            if showChoice.lower() == 'capacity':\n",
    "                wholeFoodsBag.showCapacity()\n",
    "                \n",
    "            # If they choose handles, shows the number of handles\n",
    "            elif showChoice.lower() == 'handles':\n",
    "                wholeFoodsBag.showHandles()\n",
    "                \n",
    "            # If they choose shopping bag, shows the contents of the bag\n",
    "            else:\n",
    "                wholeFoodsBag.showShoppingBag()\n",
    "                \n",
    "        # Else statment that catches options that are not valid\n",
    "        else:\n",
    "            print('That is not a valid option. Please enter add, show, or quit.')\n",
    "\n",
    "run()"
   ]
  },
  {
   "cell_type": "markdown",
   "metadata": {},
   "source": [
    "##### Modifying an Attribute's Value Through a Method"
   ]
  },
  {
   "cell_type": "code",
   "execution_count": null,
   "metadata": {},
   "outputs": [],
   "source": [
    "# Skips this part in video Python 4:2 Object Oriented Programming Continued"
   ]
  },
  {
   "cell_type": "markdown",
   "metadata": {},
   "source": [
    "##### Incrementing an Attribute's Value Through a Method"
   ]
  },
  {
   "cell_type": "code",
   "execution_count": null,
   "metadata": {},
   "outputs": [],
   "source": [
    "# Skips this part in video Python 4:2 Object Oriented Programming Continued"
   ]
  },
  {
   "cell_type": "markdown",
   "metadata": {},
   "source": [
    "##### In-Class Exercise #3 - Add a method that takes in three parameters of year, doors and seats and prints out a formatted print statement with make, model, year, seats, and doors"
   ]
  },
  {
   "cell_type": "code",
   "execution_count": 4,
   "metadata": {},
   "outputs": [
    {
     "name": "stdout",
     "output_type": "stream",
     "text": [
      "Let's learn about your car!\n",
      "Type 'Go' to start or 'Quit' to exit.\n",
      "go\n",
      "What year was your vehicle released?\n",
      "2019\n",
      "How many doors does your car have?\n",
      "4\n",
      "How many seats does your car have?\n",
      "5\n",
      "This car is from 2019 and is a Ford Explorer, and has 4 doors and 5 seats.\n"
     ]
    }
   ],
   "source": [
    "# Create class with 2 parameters inside of the __init__ which are make and model\n",
    "\n",
    "# Inside of the Car class create a method that has 4 parameter in total (self,year,door,seats)\n",
    "\n",
    "# Output: This car is from 2019 and is a Ford Expolorer and has 4 doors and 5 seats\n",
    "\n",
    "class carDetails():\n",
    "    \n",
    "    def __init__(self, make = '', model = ''):\n",
    "        self.make = make\n",
    "        self.model = model\n",
    "\n",
    "    def inputCarDetails(self, year = '', doors = '', seats = ''):\n",
    "        self.year = year\n",
    "        self.doors = doors\n",
    "        self.seats = seats\n",
    "\n",
    "        year = input('What year was your vehicle released?\\n')\n",
    "        doors = input('How many doors does your car have?\\n')\n",
    "        seats = input('How many seats does your car have?\\n')\n",
    "\n",
    "        print(f'This car is from {year} and is a {self.make} {self.model}, and has {doors} doors and {seats} seats.')\n",
    "\n",
    "myCar = carDetails('Ford','Explorer')\n",
    "\n",
    "def carInfo():\n",
    "    while True:\n",
    "        startProg = input(\"Let's learn about your car!\\nType 'Go' to start or 'Quit' to exit.\\n\")\n",
    "\n",
    "        if startProg.lower() == 'quit':\n",
    "            print('Exiting program!')\n",
    "            break\n",
    "\n",
    "        elif startProg.lower() == 'go':\n",
    "            myCar.inputCarDetails()\n",
    "            break\n",
    "\n",
    "carInfo()\n"
   ]
  },
  {
   "cell_type": "markdown",
   "metadata": {},
   "source": [
    "## Inheritance <br>\n",
    "<p>You can create a child-parent relationship between two classes by using inheritance. What this allows you to do is have overriding methods, but also inherit traits from the parent class. Think of it as an actual parent and child, the child will inherit the parent's genes, as will the classes in OOP</p>"
   ]
  },
  {
   "cell_type": "markdown",
   "metadata": {},
   "source": [
    "##### Syntax for Inheriting from a Parent Class"
   ]
  },
  {
   "cell_type": "code",
   "execution_count": null,
   "metadata": {},
   "outputs": [],
   "source": [
    "# There is no video in data analysis flex course covering this section per Schadre"
   ]
  },
  {
   "cell_type": "markdown",
   "metadata": {},
   "source": [
    "##### The \\__init\\__() Method for a Child Class - super()"
   ]
  },
  {
   "cell_type": "code",
   "execution_count": null,
   "metadata": {
    "scrolled": true
   },
   "outputs": [],
   "source": [
    "# There is no video in data analysis flex course covering this section per Schadre"
   ]
  },
  {
   "cell_type": "markdown",
   "metadata": {},
   "source": [
    "##### Defining Attributes and Methods for the Child Class"
   ]
  },
  {
   "cell_type": "code",
   "execution_count": null,
   "metadata": {},
   "outputs": [],
   "source": [
    "# There is no video in data analysis flex course covering this section per Schadre"
   ]
  },
  {
   "cell_type": "markdown",
   "metadata": {},
   "source": [
    "##### Method Overriding"
   ]
  },
  {
   "cell_type": "code",
   "execution_count": null,
   "metadata": {},
   "outputs": [],
   "source": [
    "# There is no video in data analysis flex course covering this section per Schadre"
   ]
  },
  {
   "cell_type": "markdown",
   "metadata": {},
   "source": [
    "## Classes as Attributes <br>\n",
    "<p>Classes can also be used as attributes within another class. This is useful in situations where you need to keep variables locally stored, instead of globally stored.</p>"
   ]
  },
  {
   "cell_type": "code",
   "execution_count": null,
   "metadata": {},
   "outputs": [],
   "source": [
    "# There is no video in data analysis flex course covering this section per Schadre"
   ]
  },
  {
   "cell_type": "markdown",
   "metadata": {},
   "source": [
    "# Exercises"
   ]
  },
  {
   "cell_type": "markdown",
   "metadata": {},
   "source": [
    "### Exercise 1 - Turn the shopping cart program from yesterday into an object-oriented program\n",
    "\n",
    "The comments in the cell below are there as a guide for thinking about the problem. However, if you feel a different way is best for you and your own thought process, please do what feels best for you by all means."
   ]
  },
  {
   "cell_type": "code",
   "execution_count": 2,
   "metadata": {},
   "outputs": [
    {
     "name": "stdout",
     "output_type": "stream",
     "text": [
      "What would you like to do with your cart?\n",
      "\n",
      "You may:\n",
      "- Add\n",
      "- Remove\n",
      "- Show\n",
      "- Quit\n",
      "\n",
      "add\n",
      "What would you like to add? Beef\n",
      "Beef added to your cart.\n",
      "What would you like to do with your cart?\n",
      "\n",
      "You may:\n",
      "- Add\n",
      "- Remove\n",
      "- Show\n",
      "- Quit\n",
      "\n",
      "add\n",
      "What would you like to add? Milk\n",
      "Milk added to your cart.\n",
      "What would you like to do with your cart?\n",
      "\n",
      "You may:\n",
      "- Add\n",
      "- Remove\n",
      "- Show\n",
      "- Quit\n",
      "\n",
      "Add\n",
      "What would you like to add? Liver\n",
      "Liver added to your cart.\n",
      "What would you like to do with your cart?\n",
      "\n",
      "You may:\n",
      "- Add\n",
      "- Remove\n",
      "- Show\n",
      "- Quit\n",
      "\n",
      "show\n",
      "The following items were added to your cart.\n",
      "\n",
      "Beef\n",
      "Milk\n",
      "Liver\n",
      "What would you like to do with your cart?\n",
      "\n",
      "You may:\n",
      "- Add\n",
      "- Remove\n",
      "- Show\n",
      "- Quit\n",
      "\n",
      "remove\n",
      "['Beef', 'Milk', 'Liver']\n",
      "\n",
      "What would you like to remove? Liver\n",
      "You have removed Liver from your cart.\n",
      "What would you like to do with your cart?\n",
      "\n",
      "You may:\n",
      "- Add\n",
      "- Remove\n",
      "- Show\n",
      "- Quit\n",
      "\n",
      "quit\n",
      "The following items were added to your cart.\n",
      "\n",
      "Beef\n",
      "Milk\n",
      "\n",
      "Thanks for shopping!\n"
     ]
    }
   ],
   "source": [
    "# Create a class called cart that retains items and has methods to add, remove, and show\n",
    "\n",
    "class cart():\n",
    "    \n",
    "    '''\n",
    "        The Cart class will have only have a list of items to display.\n",
    "        Users can add, remove, show, and quit via inputs.\n",
    "        \n",
    "        Attributes for the class:\n",
    "        - items: expected to be a list\n",
    "    '''\n",
    "  \n",
    "\n",
    "    # holds global attributes that methods within class can call using self.attribute\n",
    "    def __init__(self, items = [],):\n",
    "        self.items = items\n",
    "        \n",
    "    # method to show what items you have in your cart  \n",
    "    def showCart(self):\n",
    "        if len(self.items) == 0:\n",
    "            print('You have no items in your cart.')\n",
    "        else:\n",
    "            print(\"The following items were added to your cart.\\n\")\n",
    "            for item in self.items:\n",
    "                print(item)\n",
    "    \n",
    "    # method to add items to your shopping bag\n",
    "    # uses an input to add items\n",
    "    def addToCart(self):\n",
    "        productAdd = input('What would you like to add? ')\n",
    "        self.items.append(productAdd)\n",
    "        print(f'{productAdd} added to your cart.')\n",
    "        \n",
    "    # method to remove items from cart\n",
    "    # uses an input to remove items\n",
    "    def removeFromCart(self):\n",
    "        if self.items == []:\n",
    "            print(f'You have no items to remove from your cart!')\n",
    "        else:\n",
    "            print(self.items)\n",
    "            productRmv = input('\\nWhat would you like to remove? ')\n",
    "            self.items.remove(productRmv)\n",
    "            print(f'You have removed {productRmv} from your cart.')\n",
    "\n",
    "startCart = cart()       \n",
    "        \n",
    "def runCart():\n",
    "\n",
    "    while True:\n",
    "        response = input(\"What would you like to do with your cart?\\n\\nYou may:\\n- Add\\n- Remove\\n- Show\\n- Quit\\n\\n\")\n",
    "            # Asks the user what they would like to do: add, remove, show, or quit\n",
    "\n",
    "        # If they choose quit, shows the contents of cart and ends the function\n",
    "        if response.lower() == 'quit':\n",
    "            startCart.showCart()\n",
    "            print('\\nThanks for shopping!')\n",
    "            break\n",
    "            \n",
    "        # If they choose add, allows them enter items via input into cart\n",
    "        elif response.lower() == 'add':\n",
    "            startCart.addToCart()\n",
    "            \n",
    "        # If they choose add, allows them enter items via input into cart\n",
    "        elif response.lower() == 'remove':\n",
    "            startCart.removeFromCart()\n",
    "        \n",
    "        # If they choose show, displays entire contents of cart\n",
    "        elif response.lower() == 'show':\n",
    "            startCart.showCart()\n",
    "                \n",
    "        # Else statment that catches options that are not valid\n",
    "        else:\n",
    "            print('That is not a valid option. Please enter add, show, or quit.')\n",
    "\n",
    "runCart()"
   ]
  },
  {
   "cell_type": "markdown",
   "metadata": {},
   "source": [
    "### Exercise 2 - Write a Python class which has two methods get_String and print_String. get_String accept a string from the user and print_String print the string in upper case"
   ]
  },
  {
   "cell_type": "code",
   "execution_count": 1,
   "metadata": {},
   "outputs": [
    {
     "name": "stdout",
     "output_type": "stream",
     "text": [
      "What would you like to do?\n",
      "- Enter phrase\n",
      "- Quit\n",
      "enter phrase\n",
      "Enter the text you would like to have formatted to upper case.\n",
      "hello, my name is troy fleming and i am working my way through the codingtemple flex course!\n",
      "\n",
      "Reformatted to uppercase:\n",
      "HELLO, MY NAME IS TROY FLEMING AND I AM WORKING MY WAY THROUGH THE CODINGTEMPLE FLEX COURSE!\n",
      "\n",
      "What would you like to do?\n",
      "- Enter phrase\n",
      "- Quit\n",
      "quit\n",
      "\n",
      "Exiting program!\n"
     ]
    }
   ],
   "source": [
    "# Create a class with two methods 'get_String' and 'print_String.get_String' which\n",
    "# prints the entered string in upper case formatting\n",
    "\n",
    "class phrasePrint():\n",
    "    \n",
    "    '''\n",
    "        phrasePrint takes an entered string from user and prints it back\n",
    "        in all upper case formatting.\n",
    "        \n",
    "        Attributes for the class:\n",
    "        - get_String: string of text\n",
    "    '''\n",
    "    \n",
    "    def __init__(self, txtString = ''):\n",
    "        self.txtString = txtString\n",
    "        \n",
    "    # Method to get text string from user\n",
    "    def get_String(self):\n",
    "        new_String = input('Enter the text you would like to have formatted to upper case.\\n')\n",
    "        self.txtString = new_String\n",
    "    \n",
    "    # Method to reformat entered text string to upper case\n",
    "    def print_String(self):\n",
    "        print(f'\\nReformatted to uppercase:')\n",
    "        print(self.txtString.upper() + '\\n')\n",
    "            \n",
    "enterPhrase = phrasePrint()\n",
    "\n",
    "def upperPhrase():\n",
    "    \n",
    "    while True:\n",
    "        userResponse = input(f'What would you like to do?\\n- Enter phrase\\n- Quit\\n')\n",
    "        \n",
    "        # If user quits, the function closes\n",
    "        if userResponse.lower() == 'quit':\n",
    "            print('\\nExiting program!')\n",
    "            break\n",
    "        \n",
    "        # If user wants to wants to continue, prompts user to enter text then\n",
    "        # prints it back out in all uppercase formatting\n",
    "        elif userResponse.lower() == 'enter phrase':\n",
    "            enterPhrase.get_String()\n",
    "            enterPhrase.print_String()\n",
    "            \n",
    "upperPhrase()\n"
   ]
  }
 ],
 "metadata": {
  "kernelspec": {
   "display_name": "Python 3 (ipykernel)",
   "language": "python",
   "name": "python3"
  },
  "language_info": {
   "codemirror_mode": {
    "name": "ipython",
    "version": 3
   },
   "file_extension": ".py",
   "mimetype": "text/x-python",
   "name": "python",
   "nbconvert_exporter": "python",
   "pygments_lexer": "ipython3",
   "version": "3.11.3"
  }
 },
 "nbformat": 4,
 "nbformat_minor": 2
}
